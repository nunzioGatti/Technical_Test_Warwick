{
 "cells": [
  {
   "cell_type": "markdown",
   "metadata": {},
   "source": [
    "# Question_1"
   ]
  },
  {
   "cell_type": "raw",
   "metadata": {},
   "source": [
    "For this exercise, we will ask you to write a toy algorithm for the purposes of enrichment of data. The purpose of this algorithm is to take a given text dataset and a set of sentiment terms with scores, and with this assign to nouns within each record a sentiment based on nearby sentiment terms (in an extremely naive way).\n",
    "\n",
    "The following is provided:\n",
    "1.\tCSV of text, where each row represents a single customer review.\n",
    "2.\tCSV of labels, where each row represents the classification of that review\n",
    "3.\tCSV of sentiment terms, with score of either 1 or -1 representing this positive or negative sentiment.\n",
    "\n",
    "The algorithm is as described:\n",
    "\n",
    "4.\tFor each record in customer reviews: \n",
    "    a.\tFind each of the given sentiment terms. \n",
    "\n",
    "    b.\tFor each term found, locate the nearest noun in the sentence. \n",
    "\n",
    "    c.\tAssign to this noun the same sentiment value as the sentiment term. In the case of the same noun appearing multiple times (regardless of position):\n",
    "    i.\tFind the sum of all sentiment scores assigned to that noun\n",
    "    ii.\tAssign a final sentiment value of 1 to the noun if positive, -1 if negative, and 0 otherwise.\n",
    "\n",
    "Please code the above algorithm in Python and apply it to the test dataset provided.\n"
   ]
  },
  {
   "cell_type": "code",
   "execution_count": 212,
   "metadata": {},
   "outputs": [],
   "source": [
    "import pandas as pd\n",
    "import nltk\n",
    "from nltk.corpus import wordnet as wn\n",
    "from gensim.models import KeyedVectors\n",
    "from itertools import cycle\n",
    "from IPython.core.debugger import set_trace\n",
    "import string\n",
    "from collections import Counter"
   ]
  },
  {
   "cell_type": "code",
   "execution_count": 213,
   "metadata": {},
   "outputs": [],
   "source": [
    "#loading the two dataset into two pandas dataframes\n",
    "data_ = pd.read_csv('./Datasets_received/ds_technical_test_data.csv')\n",
    "sentiment_words = pd.read_csv('./Datasets_received/ds_technical_test_sentiments.csv')"
   ]
  },
  {
   "cell_type": "code",
   "execution_count": 214,
   "metadata": {},
   "outputs": [],
   "source": [
    "# I downloaded the pre-trained word vectors containing 1 million word vectors trained on Wikipedia 2017\n",
    "# I will use this for the method calculate_similarity\n",
    "#n.b due to the huge dimension of the file I won't include it in the github repository\n",
    "\n",
    "model = KeyedVectors.load_word2vec_format('./wiki-news-300d-1M.vec')"
   ]
  },
  {
   "cell_type": "code",
   "execution_count": 215,
   "metadata": {},
   "outputs": [],
   "source": [
    "#  I turned the pandas dataframe containing the sentiment words into a dictionary that is a structure\n",
    "#  more useful in this case\n",
    "\n",
    "sentiment_words = sentiment_words.set_index('word')['sentiment'].to_dict()\n"
   ]
  },
  {
   "cell_type": "code",
   "execution_count": 216,
   "metadata": {},
   "outputs": [
    {
     "name": "stdout",
     "output_type": "stream",
     "text": [
      "[('good', 'JJ'), ('ok', 'NN'), ('fine', 'NN'), ('disappointing', 'VBG'), ('terrible', 'JJ'), ('great', 'JJ'), ('bad', 'JJ'), ('awful', 'NN')]\n"
     ]
    }
   ],
   "source": [
    "print(nltk.pos_tag(list(sentiment_words.keys())))"
   ]
  },
  {
   "cell_type": "code",
   "execution_count": 217,
   "metadata": {},
   "outputs": [
    {
     "data": {
      "text/plain": [
       "{'awful': -1,\n",
       " 'bad': -1,\n",
       " 'disappointing': -1,\n",
       " 'fine': 1,\n",
       " 'good': 1,\n",
       " 'great': 1,\n",
       " 'ok': 1,\n",
       " 'terrible': -1}"
      ]
     },
     "execution_count": 217,
     "metadata": {},
     "output_type": "execute_result"
    }
   ],
   "source": [
    "sentiment_words"
   ]
  },
  {
   "cell_type": "code",
   "execution_count": 218,
   "metadata": {},
   "outputs": [],
   "source": [
    "# Considering that there are many synonyms  like the word nice that will not be considered because it is not contained \n",
    "# in the sentiment words I thought it was justified to replace these words with one of those contained in the sentiment_words\n",
    "# dictionary just if it was a medium-high value of similarity \n",
    "\n",
    "def calculate_similarity(word):\n",
    "    replace_word = word\n",
    "    if word in model:\n",
    "        if word not in sentiment_words.keys():\n",
    "            for k in sentiment_words.keys():\n",
    "                s = model.similarity(word,k)\n",
    "                if  s > 0.65:\n",
    "                    replace_word = k    \n",
    "    return(replace_word)\n"
   ]
  },
  {
   "cell_type": "code",
   "execution_count": 219,
   "metadata": {},
   "outputs": [],
   "source": [
    "# I applied classics pre-processing techniques.\n",
    "# I did not remove stopwords because, after I will use the technique of chunking to identify different part of the speech\n",
    "# and to associate the words in the sentiment_Words dictionary to the closest noun.\n",
    "\n",
    "\n",
    "data['text'] = data['text'].apply(lambda word: word.lower())\n",
    "data['text'] = data['text'].apply(lambda row: row.translate(str.maketrans('','',string.punctuation)))\n",
    "data['text'] = data.apply(lambda row: nltk.word_tokenize(row['text']), axis=1)\n",
    "data['text'] = [[calculate_similarity(word) for word in row] for row in data['text']]\n"
   ]
  },
  {
   "cell_type": "code",
   "execution_count": 220,
   "metadata": {},
   "outputs": [],
   "source": [
    "# I wrote the rules to identify the different part of the speech using the nltk library\n",
    "\n",
    "results = []\n",
    "idxs = []\n",
    "for index,row in data.iterrows():\n",
    "    sentence = nltk.pos_tag(row[0])\n",
    "    grammar = \"\"\"key_sentence: {<NN|NNS>+(<.*?>)(<VBG>)} \n",
    "                               {(<JJ>|RB)+<NN|NNS>+}\n",
    "                               {(<NN|NNS>)+(<.*?>)(<JJ>|RB)}\n",
    "                               {<NNS><VBZ|RB>+<JJ>} \n",
    "                               \n",
    "             \"\"\"\n",
    "               \n",
    "    cp = nltk.RegexpParser(grammar)\n",
    "    result = cp.parse(sentence)\n",
    "    if(len(list(result.subtrees())[1:])>0):\n",
    "#         print(list(result.subtrees())[1:])\n",
    "        results.append(list(result.subtrees())[1:])\n",
    "        idxs.append(index)\n"
   ]
  },
  {
   "cell_type": "code",
   "execution_count": 221,
   "metadata": {},
   "outputs": [],
   "source": [
    "# method to calculate the minimum distance\n",
    "def find_min_dist(n,index):\n",
    "    dist = 100\n",
    "    word = ''\n",
    "    for elem in n:\n",
    "        new_dist = abs(elem[1]-index)\n",
    "        if new_dist <dist:\n",
    "            dist=new_dist\n",
    "            word = elem[0]\n",
    "    return word\n",
    "            \n",
    "#method to calculate the value of the noun    \n",
    "def calculate_value(x):\n",
    "    nouns=[]\n",
    "    value = None\n",
    "    for i in range(0,len(x)):\n",
    "        if (x[i][1]) == 'JJ' or (x[i][1]) == 'VBG' :\n",
    "            try:\n",
    "                value = sentiment_words.get(x[i][0])\n",
    "                index = i\n",
    "            except:\n",
    "                print('no')\n",
    "        elif (x[i][1]) == 'NN' or (x[i][1]) == 'NNS':\n",
    "            nouns.append([x[i][0],i])\n",
    "    \n",
    "    if value != None:\n",
    "        if len(nouns) == 1:\n",
    "            return [nouns[0][0],value]\n",
    "        else:\n",
    "            return [find_min_dist(nouns,index),value]\n",
    "\n",
    "# method to check if there are any duplicates of nouns\n",
    "def check_duplicate_values(row_temp):\n",
    "    if len(row_temp)>1:\n",
    "        for elem,value in row_temp: \n",
    "            if Counter(elem in sl for sl in row_temp)[1] > 1:\n",
    "                indices = [i for i, row_temp in enumerate(row_temp) if row_temp[0] == elem]\n",
    "                new_value = sum (row_temp[i][1] for i in indices)\n",
    "                row_temp = [i for j, i in enumerate(row_temp) if j not in indices]\n",
    "                row_temp.append([elem,new_value])            \n",
    "    return row_temp\n",
    "    \n",
    "    "
   ]
  },
  {
   "cell_type": "code",
   "execution_count": 222,
   "metadata": {},
   "outputs": [],
   "source": [
    "\n",
    "outcomes_1 = []\n",
    "for tree in results:\n",
    "    row = []\n",
    "    for sub_tree in tree:\n",
    "        subt = list(iter(sub_tree))\n",
    "        word_value = calculate_value(subt)\n",
    "        if (word_value):\n",
    "            row.append(word_value)\n",
    "    outcomes_1.append(check_duplicate_values(row))\n",
    "\n",
    "    \n",
    "    \n",
    "    "
   ]
  },
  {
   "cell_type": "code",
   "execution_count": 223,
   "metadata": {},
   "outputs": [],
   "source": [
    "final_list = list(zip(outcomes_1,idxs))\n",
    "final_list = [elem for elem in final_list if len(elem[0])>0]\n",
    "idxs = [idx for elem,idx in final_list]"
   ]
  },
  {
   "cell_type": "code",
   "execution_count": 224,
   "metadata": {},
   "outputs": [],
   "source": [
    "ned_data = pd.DataFrame(list(zip([*[elem for elem,index in final_list]])), columns = ['Results'])\n",
    "ned_data.index = idxs"
   ]
  },
  {
   "cell_type": "code",
   "execution_count": 225,
   "metadata": {},
   "outputs": [],
   "source": [
    "final_dataset = data.join(ned_data, how='outer')"
   ]
  },
  {
   "cell_type": "code",
   "execution_count": 226,
   "metadata": {},
   "outputs": [
    {
     "data": {
      "text/html": [
       "<div>\n",
       "<style scoped>\n",
       "    .dataframe tbody tr th:only-of-type {\n",
       "        vertical-align: middle;\n",
       "    }\n",
       "\n",
       "    .dataframe tbody tr th {\n",
       "        vertical-align: top;\n",
       "    }\n",
       "\n",
       "    .dataframe thead th {\n",
       "        text-align: right;\n",
       "    }\n",
       "</style>\n",
       "<table border=\"1\" class=\"dataframe\">\n",
       "  <thead>\n",
       "    <tr style=\"text-align: right;\">\n",
       "      <th></th>\n",
       "      <th>text</th>\n",
       "      <th>Results</th>\n",
       "    </tr>\n",
       "  </thead>\n",
       "  <tbody>\n",
       "    <tr>\n",
       "      <th>0</th>\n",
       "      <td>[this, would, be, a, great, mouse, if, it, did...</td>\n",
       "      <td>[[mouse, 1]]</td>\n",
       "    </tr>\n",
       "    <tr>\n",
       "      <th>1</th>\n",
       "      <td>[this, item, it, put, together, well, but, the...</td>\n",
       "      <td>NaN</td>\n",
       "    </tr>\n",
       "    <tr>\n",
       "      <th>2</th>\n",
       "      <td>[i, bought, two, of, these, cards, for, two, d...</td>\n",
       "      <td>[[cards, 1]]</td>\n",
       "    </tr>\n",
       "    <tr>\n",
       "      <th>3</th>\n",
       "      <td>[this, cable, 16, and, price, tell, you, what,...</td>\n",
       "      <td>NaN</td>\n",
       "    </tr>\n",
       "    <tr>\n",
       "      <th>4</th>\n",
       "      <td>[it, did, not, work, on, my, 2012, tundra, and...</td>\n",
       "      <td>NaN</td>\n",
       "    </tr>\n",
       "  </tbody>\n",
       "</table>\n",
       "</div>"
      ],
      "text/plain": [
       "                                                text       Results\n",
       "0  [this, would, be, a, great, mouse, if, it, did...  [[mouse, 1]]\n",
       "1  [this, item, it, put, together, well, but, the...           NaN\n",
       "2  [i, bought, two, of, these, cards, for, two, d...  [[cards, 1]]\n",
       "3  [this, cable, 16, and, price, tell, you, what,...           NaN\n",
       "4  [it, did, not, work, on, my, 2012, tundra, and...           NaN"
      ]
     },
     "execution_count": 226,
     "metadata": {},
     "output_type": "execute_result"
    }
   ],
   "source": [
    "# for each instance where my regular expressions were able to detect a pattern containing a sentiment word I saved \n",
    "# in the column Results the closest noun with the value, NaN otherwise\n",
    "\n",
    "final_dataset.head()"
   ]
  },
  {
   "cell_type": "markdown",
   "metadata": {},
   "source": [
    "# Question_2"
   ]
  },
  {
   "cell_type": "raw",
   "metadata": {},
   "source": [
    "Now we want to use the sentiment information associated with the nouns as calculated via the above algorithm. \n",
    "Produce a second dataset enriched in some way with the sentiment information found via the algorithm above --\n",
    "your choice as to how to do so. "
   ]
  },
  {
   "cell_type": "raw",
   "metadata": {},
   "source": [
    "To enrich the database I decided to insert a column indicating the number of products bought or mentioned in the review\n",
    "and the approval rating summing up all points associated to all nouns present in a sentence."
   ]
  },
  {
   "cell_type": "code",
   "execution_count": 227,
   "metadata": {},
   "outputs": [],
   "source": [
    "final_dataset['Results'] = final_dataset['Results'].fillna(0)\n",
    "final_dataset['Numbers_of_product'] = 1"
   ]
  },
  {
   "cell_type": "code",
   "execution_count": 228,
   "metadata": {},
   "outputs": [
    {
     "data": {
      "text/html": [
       "<div>\n",
       "<style scoped>\n",
       "    .dataframe tbody tr th:only-of-type {\n",
       "        vertical-align: middle;\n",
       "    }\n",
       "\n",
       "    .dataframe tbody tr th {\n",
       "        vertical-align: top;\n",
       "    }\n",
       "\n",
       "    .dataframe thead th {\n",
       "        text-align: right;\n",
       "    }\n",
       "</style>\n",
       "<table border=\"1\" class=\"dataframe\">\n",
       "  <thead>\n",
       "    <tr style=\"text-align: right;\">\n",
       "      <th></th>\n",
       "      <th>text</th>\n",
       "      <th>Results</th>\n",
       "      <th>Numbers_of_product</th>\n",
       "    </tr>\n",
       "  </thead>\n",
       "  <tbody>\n",
       "    <tr>\n",
       "      <th>0</th>\n",
       "      <td>[this, would, be, a, great, mouse, if, it, did...</td>\n",
       "      <td>[[mouse, 1]]</td>\n",
       "      <td>1</td>\n",
       "    </tr>\n",
       "    <tr>\n",
       "      <th>1</th>\n",
       "      <td>[this, item, it, put, together, well, but, the...</td>\n",
       "      <td>0</td>\n",
       "      <td>1</td>\n",
       "    </tr>\n",
       "    <tr>\n",
       "      <th>2</th>\n",
       "      <td>[i, bought, two, of, these, cards, for, two, d...</td>\n",
       "      <td>[[cards, 1]]</td>\n",
       "      <td>1</td>\n",
       "    </tr>\n",
       "    <tr>\n",
       "      <th>3</th>\n",
       "      <td>[this, cable, 16, and, price, tell, you, what,...</td>\n",
       "      <td>0</td>\n",
       "      <td>1</td>\n",
       "    </tr>\n",
       "    <tr>\n",
       "      <th>4</th>\n",
       "      <td>[it, did, not, work, on, my, 2012, tundra, and...</td>\n",
       "      <td>0</td>\n",
       "      <td>1</td>\n",
       "    </tr>\n",
       "  </tbody>\n",
       "</table>\n",
       "</div>"
      ],
      "text/plain": [
       "                                                text       Results  \\\n",
       "0  [this, would, be, a, great, mouse, if, it, did...  [[mouse, 1]]   \n",
       "1  [this, item, it, put, together, well, but, the...             0   \n",
       "2  [i, bought, two, of, these, cards, for, two, d...  [[cards, 1]]   \n",
       "3  [this, cable, 16, and, price, tell, you, what,...             0   \n",
       "4  [it, did, not, work, on, my, 2012, tundra, and...             0   \n",
       "\n",
       "   Numbers_of_product  \n",
       "0                   1  \n",
       "1                   1  \n",
       "2                   1  \n",
       "3                   1  \n",
       "4                   1  "
      ]
     },
     "execution_count": 228,
     "metadata": {},
     "output_type": "execute_result"
    }
   ],
   "source": [
    "final_dataset.head()"
   ]
  },
  {
   "cell_type": "code",
   "execution_count": 229,
   "metadata": {},
   "outputs": [],
   "source": [
    "#to calculate the total points and so the approval rating of a sentence \n",
    "#I had just to sum up the points \n",
    "#associated to each noun.\n",
    "\n",
    "def calculate_sum(x):\n",
    "    sum = 0\n",
    "    for value in enumerate(x):\n",
    "        sum = sum + value[1][1]\n",
    "    return(sum)\n",
    "\n",
    "#to try to calculate the number of products I checked if \n",
    "#each noun was singular or plural. If it was plural I assumed \n",
    "# that the customer was commenting 2 products.\n",
    "\n",
    "def number_of_products(x):\n",
    "    number = 0\n",
    "    for product in enumerate(x):\n",
    "        if nltk.pos_tag([product[1][0]])[0][1] == 'NNS':\n",
    "            number = number + 2\n",
    "        else:\n",
    "            number = number + 1 \n",
    "    return number\n",
    "        \n",
    "        "
   ]
  },
  {
   "cell_type": "code",
   "execution_count": 230,
   "metadata": {},
   "outputs": [],
   "source": [
    "# I used the above method to calculate the overall value of the feedback, summing up all values associated to different nouns\n",
    "# that belong to the same review\n",
    "\n",
    "final_dataset['Numbers_of_product'] = final_dataset['Results'].apply(lambda x : 1 if x == 0 else number_of_products(x))\n",
    "final_dataset['Results'] = final_dataset['Results'].apply(lambda x : 0 if x == 0 else calculate_sum(x))"
   ]
  },
  {
   "cell_type": "code",
   "execution_count": 231,
   "metadata": {},
   "outputs": [],
   "source": [
    "# I used dummy variables (boolean) to represent all possible combination of value assocaited to one feedback\n",
    "final_dataset = pd.get_dummies(final_dataset, columns=['Results'])"
   ]
  },
  {
   "cell_type": "code",
   "execution_count": 232,
   "metadata": {},
   "outputs": [
    {
     "data": {
      "text/html": [
       "<div>\n",
       "<style scoped>\n",
       "    .dataframe tbody tr th:only-of-type {\n",
       "        vertical-align: middle;\n",
       "    }\n",
       "\n",
       "    .dataframe tbody tr th {\n",
       "        vertical-align: top;\n",
       "    }\n",
       "\n",
       "    .dataframe thead th {\n",
       "        text-align: right;\n",
       "    }\n",
       "</style>\n",
       "<table border=\"1\" class=\"dataframe\">\n",
       "  <thead>\n",
       "    <tr style=\"text-align: right;\">\n",
       "      <th></th>\n",
       "      <th>text</th>\n",
       "      <th>Numbers_of_product</th>\n",
       "      <th>Results_-1</th>\n",
       "      <th>Results_0</th>\n",
       "      <th>Results_1</th>\n",
       "      <th>Results_2</th>\n",
       "    </tr>\n",
       "  </thead>\n",
       "  <tbody>\n",
       "    <tr>\n",
       "      <th>0</th>\n",
       "      <td>[this, would, be, a, great, mouse, if, it, did...</td>\n",
       "      <td>1</td>\n",
       "      <td>0</td>\n",
       "      <td>0</td>\n",
       "      <td>1</td>\n",
       "      <td>0</td>\n",
       "    </tr>\n",
       "    <tr>\n",
       "      <th>1</th>\n",
       "      <td>[this, item, it, put, together, well, but, the...</td>\n",
       "      <td>1</td>\n",
       "      <td>0</td>\n",
       "      <td>1</td>\n",
       "      <td>0</td>\n",
       "      <td>0</td>\n",
       "    </tr>\n",
       "    <tr>\n",
       "      <th>2</th>\n",
       "      <td>[i, bought, two, of, these, cards, for, two, d...</td>\n",
       "      <td>2</td>\n",
       "      <td>0</td>\n",
       "      <td>0</td>\n",
       "      <td>1</td>\n",
       "      <td>0</td>\n",
       "    </tr>\n",
       "    <tr>\n",
       "      <th>3</th>\n",
       "      <td>[this, cable, 16, and, price, tell, you, what,...</td>\n",
       "      <td>1</td>\n",
       "      <td>0</td>\n",
       "      <td>1</td>\n",
       "      <td>0</td>\n",
       "      <td>0</td>\n",
       "    </tr>\n",
       "    <tr>\n",
       "      <th>4</th>\n",
       "      <td>[it, did, not, work, on, my, 2012, tundra, and...</td>\n",
       "      <td>1</td>\n",
       "      <td>0</td>\n",
       "      <td>1</td>\n",
       "      <td>0</td>\n",
       "      <td>0</td>\n",
       "    </tr>\n",
       "  </tbody>\n",
       "</table>\n",
       "</div>"
      ],
      "text/plain": [
       "                                                text  Numbers_of_product  \\\n",
       "0  [this, would, be, a, great, mouse, if, it, did...                   1   \n",
       "1  [this, item, it, put, together, well, but, the...                   1   \n",
       "2  [i, bought, two, of, these, cards, for, two, d...                   2   \n",
       "3  [this, cable, 16, and, price, tell, you, what,...                   1   \n",
       "4  [it, did, not, work, on, my, 2012, tundra, and...                   1   \n",
       "\n",
       "   Results_-1  Results_0  Results_1  Results_2  \n",
       "0           0          0          1          0  \n",
       "1           0          1          0          0  \n",
       "2           0          0          1          0  \n",
       "3           0          1          0          0  \n",
       "4           0          1          0          0  "
      ]
     },
     "execution_count": 232,
     "metadata": {},
     "output_type": "execute_result"
    }
   ],
   "source": [
    "final_dataset.head()"
   ]
  },
  {
   "cell_type": "code",
   "execution_count": 233,
   "metadata": {},
   "outputs": [],
   "source": [
    "final_dataset = final_dataset.rename( columns={\"Results_-1\": \"Negative\", \"Results_0\": \"Null\",  \"Results_1\": \"Positive\", \"Results_2\": 'Excellent'})"
   ]
  },
  {
   "cell_type": "code",
   "execution_count": 234,
   "metadata": {},
   "outputs": [
    {
     "data": {
      "text/html": [
       "<div>\n",
       "<style scoped>\n",
       "    .dataframe tbody tr th:only-of-type {\n",
       "        vertical-align: middle;\n",
       "    }\n",
       "\n",
       "    .dataframe tbody tr th {\n",
       "        vertical-align: top;\n",
       "    }\n",
       "\n",
       "    .dataframe thead th {\n",
       "        text-align: right;\n",
       "    }\n",
       "</style>\n",
       "<table border=\"1\" class=\"dataframe\">\n",
       "  <thead>\n",
       "    <tr style=\"text-align: right;\">\n",
       "      <th></th>\n",
       "      <th>text</th>\n",
       "      <th>Numbers_of_product</th>\n",
       "      <th>Negative</th>\n",
       "      <th>Null</th>\n",
       "      <th>Positive</th>\n",
       "      <th>Excellent</th>\n",
       "    </tr>\n",
       "  </thead>\n",
       "  <tbody>\n",
       "    <tr>\n",
       "      <th>0</th>\n",
       "      <td>[this, would, be, a, great, mouse, if, it, did...</td>\n",
       "      <td>1</td>\n",
       "      <td>0</td>\n",
       "      <td>0</td>\n",
       "      <td>1</td>\n",
       "      <td>0</td>\n",
       "    </tr>\n",
       "    <tr>\n",
       "      <th>1</th>\n",
       "      <td>[this, item, it, put, together, well, but, the...</td>\n",
       "      <td>1</td>\n",
       "      <td>0</td>\n",
       "      <td>1</td>\n",
       "      <td>0</td>\n",
       "      <td>0</td>\n",
       "    </tr>\n",
       "    <tr>\n",
       "      <th>2</th>\n",
       "      <td>[i, bought, two, of, these, cards, for, two, d...</td>\n",
       "      <td>2</td>\n",
       "      <td>0</td>\n",
       "      <td>0</td>\n",
       "      <td>1</td>\n",
       "      <td>0</td>\n",
       "    </tr>\n",
       "    <tr>\n",
       "      <th>3</th>\n",
       "      <td>[this, cable, 16, and, price, tell, you, what,...</td>\n",
       "      <td>1</td>\n",
       "      <td>0</td>\n",
       "      <td>1</td>\n",
       "      <td>0</td>\n",
       "      <td>0</td>\n",
       "    </tr>\n",
       "    <tr>\n",
       "      <th>4</th>\n",
       "      <td>[it, did, not, work, on, my, 2012, tundra, and...</td>\n",
       "      <td>1</td>\n",
       "      <td>0</td>\n",
       "      <td>1</td>\n",
       "      <td>0</td>\n",
       "      <td>0</td>\n",
       "    </tr>\n",
       "  </tbody>\n",
       "</table>\n",
       "</div>"
      ],
      "text/plain": [
       "                                                text  Numbers_of_product  \\\n",
       "0  [this, would, be, a, great, mouse, if, it, did...                   1   \n",
       "1  [this, item, it, put, together, well, but, the...                   1   \n",
       "2  [i, bought, two, of, these, cards, for, two, d...                   2   \n",
       "3  [this, cable, 16, and, price, tell, you, what,...                   1   \n",
       "4  [it, did, not, work, on, my, 2012, tundra, and...                   1   \n",
       "\n",
       "   Negative  Null  Positive  Excellent  \n",
       "0         0     0         1          0  \n",
       "1         0     1         0          0  \n",
       "2         0     0         1          0  \n",
       "3         0     1         0          0  \n",
       "4         0     1         0          0  "
      ]
     },
     "execution_count": 234,
     "metadata": {},
     "output_type": "execute_result"
    }
   ],
   "source": [
    "final_dataset.head()"
   ]
  },
  {
   "cell_type": "code",
   "execution_count": 237,
   "metadata": {},
   "outputs": [],
   "source": [
    "#exporting the enriched dataset\n",
    "final_dataset.to_csv(\"./Enriched_dataset.csv\")"
   ]
  },
  {
   "cell_type": "code",
   "execution_count": 238,
   "metadata": {},
   "outputs": [
    {
     "name": "stdout",
     "output_type": "stream",
     "text": [
      "Number of reviews : 120 , Negative : 4 , Null : 81 , Positive : 28 , Excellent : 7\n"
     ]
    }
   ],
   "source": [
    "negative  = (final_dataset['Negative'] != 0).sum()\n",
    "null = (final_dataset['Null'] != 0).sum()\n",
    "positive = (final_dataset['Positive'] != 0).sum()\n",
    "excellent = (final_dataset['Excellent'] != 0).sum()\n",
    "\n",
    "print (\"Number of reviews : {} , Negative : {} , Null : {} , Positive : {} , Excellent : {}\".format(len(final_dataset),negative,null,positive,excellent))"
   ]
  },
  {
   "cell_type": "code",
   "execution_count": 239,
   "metadata": {},
   "outputs": [
    {
     "data": {
      "image/png": "[encoded data removed]",
      "text/plain": [
       "<Figure size 432x288 with 1 Axes>"
      ]
     },
     "metadata": {},
     "output_type": "display_data"
    }
   ],
   "source": [
    "import matplotlib.pyplot as plt\n",
    " \n",
    "# Data to plot\n",
    "labels = 'Negative', 'Null', 'Positive', 'Excellent'\n",
    "sizes = [negative,null,positive,excellent]\n",
    "colors = ['red', 'grey', 'lightgreen', 'green']\n",
    "explode = (0.1, 0, 0, 0)  # explode 1st slice\n",
    " \n",
    "# Plot\n",
    "plt.pie(sizes, explode=explode, labels=labels, colors=colors,\n",
    "        autopct='%1.1f%%', shadow=True, startangle=140)\n",
    " \n",
    "plt.axis('equal')\n",
    "plt.show()"
   ]
  }
 ],
 "metadata": {
  "kernelspec": {
   "display_name": "Python 3",
   "language": "python",
   "name": "python3"
  },
  "language_info": {
   "codemirror_mode": {
    "name": "ipython",
    "version": 3
   },
   "file_extension": ".py",
   "mimetype": "text/x-python",
   "name": "python",
   "nbconvert_exporter": "python",
   "pygments_lexer": "ipython3",
   "version": "3.5.0"
  }
 },
 "nbformat": 4,
 "nbformat_minor": 2
}
